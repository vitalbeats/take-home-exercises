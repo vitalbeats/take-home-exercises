{
 "cells": [
  {
   "cell_type": "code",
   "execution_count": 1,
   "metadata": {
    "ExecuteTime": {
     "end_time": "2020-09-11T12:26:19.049159Z",
     "start_time": "2020-09-11T12:26:18.046808Z"
    }
   },
   "outputs": [],
   "source": [
    "import pandas as pd\n",
    "import numpy as np\n",
    "import matplotlib.pyplot as plot\n",
    "\n",
    "%load_ext autoreload\n",
    "%autoreload 2\n",
    "import notebook_helpers as nb"
   ]
  },
  {
   "cell_type": "markdown",
   "metadata": {},
   "source": [
    "# Predicting Future Medical Events\n",
    "\n",
    "## Introduction\n",
    "The goal of this notebook is to see how well we can predict future medical events for patients. "
   ]
  },
  {
   "cell_type": "markdown",
   "metadata": {},
   "source": [
    "## Loading the Data"
   ]
  },
  {
   "cell_type": "code",
   "execution_count": 2,
   "metadata": {
    "ExecuteTime": {
     "end_time": "2020-09-11T12:26:19.457354Z",
     "start_time": "2020-09-11T12:26:19.051582Z"
    }
   },
   "outputs": [
    {
     "data": {
      "text/html": [
       "<div>\n",
       "<style scoped>\n",
       "    .dataframe tbody tr th:only-of-type {\n",
       "        vertical-align: middle;\n",
       "    }\n",
       "\n",
       "    .dataframe tbody tr th {\n",
       "        vertical-align: top;\n",
       "    }\n",
       "\n",
       "    .dataframe thead th {\n",
       "        text-align: right;\n",
       "    }\n",
       "</style>\n",
       "<table border=\"1\" class=\"dataframe\">\n",
       "  <thead>\n",
       "    <tr style=\"text-align: right;\">\n",
       "      <th></th>\n",
       "      <th>UID</th>\n",
       "      <th>Age</th>\n",
       "      <th>Gender</th>\n",
       "      <th>Date</th>\n",
       "      <th>Event_Code</th>\n",
       "    </tr>\n",
       "  </thead>\n",
       "  <tbody>\n",
       "    <tr>\n",
       "      <th>0</th>\n",
       "      <td>Id_e45bbc48</td>\n",
       "      <td>14</td>\n",
       "      <td>F</td>\n",
       "      <td>201205</td>\n",
       "      <td>8707</td>\n",
       "    </tr>\n",
       "    <tr>\n",
       "      <th>1</th>\n",
       "      <td>Id_e45a8472</td>\n",
       "      <td>52</td>\n",
       "      <td>F</td>\n",
       "      <td>201305</td>\n",
       "      <td>7261</td>\n",
       "    </tr>\n",
       "    <tr>\n",
       "      <th>2</th>\n",
       "      <td>Id_e45b20d6</td>\n",
       "      <td>12</td>\n",
       "      <td>F</td>\n",
       "      <td>201212</td>\n",
       "      <td>1967</td>\n",
       "    </tr>\n",
       "    <tr>\n",
       "      <th>3</th>\n",
       "      <td>Id_e45aabad</td>\n",
       "      <td>22</td>\n",
       "      <td>F</td>\n",
       "      <td>201211</td>\n",
       "      <td>7172</td>\n",
       "    </tr>\n",
       "    <tr>\n",
       "      <th>4</th>\n",
       "      <td>Id_e45c5780</td>\n",
       "      <td>73</td>\n",
       "      <td>F</td>\n",
       "      <td>201312</td>\n",
       "      <td>8100</td>\n",
       "    </tr>\n",
       "  </tbody>\n",
       "</table>\n",
       "</div>"
      ],
      "text/plain": [
       "           UID  Age Gender    Date Event_Code\n",
       "0  Id_e45bbc48   14      F  201205       8707\n",
       "1  Id_e45a8472   52      F  201305       7261\n",
       "2  Id_e45b20d6   12      F  201212       1967\n",
       "3  Id_e45aabad   22      F  201211       7172\n",
       "4  Id_e45c5780   73      F  201312       8100"
      ]
     },
     "execution_count": 2,
     "metadata": {},
     "output_type": "execute_result"
    }
   ],
   "source": [
    "df = pd.read_csv('./data/data.csv')\n",
    "df.head()"
   ]
  },
  {
   "cell_type": "markdown",
   "metadata": {},
   "source": [
    "## Pre-processing the data\n",
    "Convert dates to a proper format etc."
   ]
  },
  {
   "cell_type": "code",
   "execution_count": 3,
   "metadata": {
    "ExecuteTime": {
     "end_time": "2020-09-11T12:26:19.484137Z",
     "start_time": "2020-09-11T12:26:19.460779Z"
    }
   },
   "outputs": [],
   "source": [
    "df = nb.pre_process(df)"
   ]
  },
  {
   "cell_type": "markdown",
   "metadata": {},
   "source": [
    "## Feature Engineering\n",
    "Can you add feature to improve model performance? Remember that you are working with time-series data on individuals."
   ]
  },
  {
   "cell_type": "code",
   "execution_count": 4,
   "metadata": {
    "ExecuteTime": {
     "end_time": "2020-09-11T12:26:19.510251Z",
     "start_time": "2020-09-11T12:26:19.486687Z"
    }
   },
   "outputs": [],
   "source": [
    "features = nb.feature_engineering(df)"
   ]
  },
  {
   "cell_type": "markdown",
   "metadata": {},
   "source": [
    "## Target Engineering\n",
    "The prediction targets aren't included in the data, so we have to make them up ourselves.\n",
    "\n",
    "For the sake of this exercise we are looking at **reocurring medical events**. That is, given that a citizen had one or more events in a month, do they have one or more events next month?\n",
    "\n",
    "This will be used to the Insurance company to scale the citizen's premium. Terrible, but that is the business model of this imaginary insurance company."
   ]
  },
  {
   "cell_type": "code",
   "execution_count": 5,
   "metadata": {
    "ExecuteTime": {
     "end_time": "2020-09-11T12:26:19.534365Z",
     "start_time": "2020-09-11T12:26:19.512240Z"
    }
   },
   "outputs": [],
   "source": [
    "targets = nb.target_engineering(df)"
   ]
  },
  {
   "cell_type": "markdown",
   "metadata": {},
   "source": [
    "## Splitting the Data\n",
    "We need to split the data into test and train sets. If you are going for extensive optimisation, you will need a more elaborate evaluation strategy."
   ]
  },
  {
   "cell_type": "code",
   "execution_count": 6,
   "metadata": {
    "ExecuteTime": {
     "end_time": "2020-09-11T12:26:19.558767Z",
     "start_time": "2020-09-11T12:26:19.536566Z"
    }
   },
   "outputs": [],
   "source": [
    "X_train, Y_train, X_test, Y_test = nb.splitting_data(df)"
   ]
  },
  {
   "cell_type": "markdown",
   "metadata": {},
   "source": [
    "## Model Evaluation\n",
    "How well does the model perform and how do you know?"
   ]
  },
  {
   "cell_type": "code",
   "execution_count": null,
   "metadata": {},
   "outputs": [],
   "source": []
  },
  {
   "cell_type": "markdown",
   "metadata": {},
   "source": [
    "## Discussion and Conclusion\n",
    "What did you find? What whould you do if you had more time?"
   ]
  }
 ],
 "metadata": {
  "kernelspec": {
   "display_name": "Python 3.7.4 64-bit ('.venv': venv)",
   "language": "python",
   "name": "python37464bitvenvvenvaf2b090ccd4f45519c8dc2e9a6659c1f"
  },
  "language_info": {
   "codemirror_mode": {
    "name": "ipython",
    "version": 3
   },
   "file_extension": ".py",
   "mimetype": "text/x-python",
   "name": "python",
   "nbconvert_exporter": "python",
   "pygments_lexer": "ipython3",
   "version": "3.7.4"
  }
 },
 "nbformat": 4,
 "nbformat_minor": 4
}
